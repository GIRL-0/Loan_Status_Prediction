{
 "cells": [
  {
   "cell_type": "markdown",
   "id": "9823ecad-79b4-4efd-a263-afcd9267ebc9",
   "metadata": {},
   "source": [
    "# 대출 신청 승인 여부 데이터\n",
    "- 과거 부동산 대출 신청자들의 데이터\n",
    "- 소득, 대출 금액, 신용 기록 등에 따라 대출 승인 여부 결정\n",
    "- 대출 승인 / 거부 여부 예측 모델 구축"
   ]
  },
  {
   "cell_type": "markdown",
   "id": "77369207-7360-4350-9584-5d58258bca79",
   "metadata": {},
   "source": [
    "## 데이터 구성"
   ]
  },
  {
   "cell_type": "markdown",
   "id": "65912fa2-64a6-41c4-bf4d-f1129e7f1d03",
   "metadata": {},
   "source": [
    "| 변수명                | 설명                                              | Non-null 값 수 | 데이터 타입 |\n",
    "|-----------------------|---------------------------------------------------|----------------|-------------|\n",
    "| **Loan_ID**            | 고유 대출 ID                                       | 614            | object      |\n",
    "| **Gender**             | 성별 (남성/여성)                                    | 601            | object      |\n",
    "| **Married**            | 결혼 여부 (Y/N) - 신청인이 결혼했는지 여부             | 611            | object      |\n",
    "| **Dependents**         | 부양가족 수                                         | 599            | object      |\n",
    "| **Education**          | 학력 (대학 졸업/비졸업)                             | 614            | object      |\n",
    "| **Self_Employed**      | 자영업 여부 (Y/N) - 신청인이 자영업자인지 여부        | 582            | object      |\n",
    "| **ApplicantIncome**    | 신청인 소득                                         | 614            | int64       |\n",
    "| **CoapplicantIncome**  | 공동 신청인 소득                                    | 614            | float64     |\n",
    "| **LoanAmount**         | 대출 금액 (천 단위)                                 | 592            | float64     |\n",
    "| **Loan_Amount_Term**   | 대출 기간 (개월 단위)                                | 600            | float64     |\n",
    "| **Credit_History**     | 신용 기록이 가이드라인에 부합하는지 여부             | 564            | float64     |\n",
    "| **Property_Area**      | 부동산 위치 (도시/준도시/농촌)                      | 614            | object      |\n",
    "| **Loan_Status**        | 대출 승인 여부 (Y/N)                                | 614            | object      |"
   ]
  },
  {
   "cell_type": "markdown",
   "id": "b5daf951-0eb6-4f4f-8454-ed19809a2c3a",
   "metadata": {},
   "source": [
    "## 데이터 파악"
   ]
  },
  {
   "cell_type": "code",
   "execution_count": 17,
   "id": "07b519f6-94df-49be-b03b-15d2610eba6b",
   "metadata": {},
   "outputs": [],
   "source": [
    "# import package\n",
    "\n",
    "import numpy as np\n",
    "import pandas as pd\n",
    "import matplotlib \n",
    "%matplotlib inline\n",
    "import matplotlib.pyplot as plt\n",
    "import seaborn as sns\n",
    "import warnings\n",
    "\n",
    "matplotlib.rc('font', family = 'Malgun Gothic')\n",
    "matplotlib.rc('axes', unicode_minus=False)\n",
    "warnings.filterwarnings('ignore')"
   ]
  },
  {
   "cell_type": "code",
   "execution_count": 19,
   "id": "0dd73ffa-67f2-4356-b60d-897aa5f35160",
   "metadata": {},
   "outputs": [
    {
     "name": "stdout",
     "output_type": "stream",
     "text": [
      "<class 'pandas.core.frame.DataFrame'>\n",
      "RangeIndex: 614 entries, 0 to 613\n",
      "Data columns (total 13 columns):\n",
      " #   Column             Non-Null Count  Dtype  \n",
      "---  ------             --------------  -----  \n",
      " 0   Loan_ID            614 non-null    object \n",
      " 1   Gender             601 non-null    object \n",
      " 2   Married            611 non-null    object \n",
      " 3   Dependents         599 non-null    object \n",
      " 4   Education          614 non-null    object \n",
      " 5   Self_Employed      582 non-null    object \n",
      " 6   ApplicantIncome    614 non-null    int64  \n",
      " 7   CoapplicantIncome  614 non-null    float64\n",
      " 8   LoanAmount         592 non-null    float64\n",
      " 9   Loan_Amount_Term   600 non-null    float64\n",
      " 10  Credit_History     564 non-null    float64\n",
      " 11  Property_Area      614 non-null    object \n",
      " 12  Loan_Status        614 non-null    object \n",
      "dtypes: float64(4), int64(1), object(8)\n",
      "memory usage: 62.5+ KB\n"
     ]
    }
   ],
   "source": [
    "# load dataset\n",
    "df = pd.read_csv('data/Loan Status Prediction.csv')\n",
    "df.info()"
   ]
  },
  {
   "cell_type": "code",
   "execution_count": 23,
   "id": "6c3bd7c1-abfe-41f9-a3f0-3b1425a990b5",
   "metadata": {},
   "outputs": [
    {
     "data": {
      "text/html": [
       "<div>\n",
       "<style scoped>\n",
       "    .dataframe tbody tr th:only-of-type {\n",
       "        vertical-align: middle;\n",
       "    }\n",
       "\n",
       "    .dataframe tbody tr th {\n",
       "        vertical-align: top;\n",
       "    }\n",
       "\n",
       "    .dataframe thead th {\n",
       "        text-align: right;\n",
       "    }\n",
       "</style>\n",
       "<table border=\"1\" class=\"dataframe\">\n",
       "  <thead>\n",
       "    <tr style=\"text-align: right;\">\n",
       "      <th></th>\n",
       "      <th>ApplicantIncome</th>\n",
       "      <th>CoapplicantIncome</th>\n",
       "      <th>LoanAmount</th>\n",
       "      <th>Loan_Amount_Term</th>\n",
       "      <th>Credit_History</th>\n",
       "    </tr>\n",
       "  </thead>\n",
       "  <tbody>\n",
       "    <tr>\n",
       "      <th>count</th>\n",
       "      <td>614.000000</td>\n",
       "      <td>614.000000</td>\n",
       "      <td>592.000000</td>\n",
       "      <td>600.00000</td>\n",
       "      <td>564.000000</td>\n",
       "    </tr>\n",
       "    <tr>\n",
       "      <th>mean</th>\n",
       "      <td>5403.459283</td>\n",
       "      <td>1621.245798</td>\n",
       "      <td>146.412162</td>\n",
       "      <td>342.00000</td>\n",
       "      <td>0.842199</td>\n",
       "    </tr>\n",
       "    <tr>\n",
       "      <th>std</th>\n",
       "      <td>6109.041673</td>\n",
       "      <td>2926.248369</td>\n",
       "      <td>85.587325</td>\n",
       "      <td>65.12041</td>\n",
       "      <td>0.364878</td>\n",
       "    </tr>\n",
       "    <tr>\n",
       "      <th>min</th>\n",
       "      <td>150.000000</td>\n",
       "      <td>0.000000</td>\n",
       "      <td>9.000000</td>\n",
       "      <td>12.00000</td>\n",
       "      <td>0.000000</td>\n",
       "    </tr>\n",
       "    <tr>\n",
       "      <th>25%</th>\n",
       "      <td>2877.500000</td>\n",
       "      <td>0.000000</td>\n",
       "      <td>100.000000</td>\n",
       "      <td>360.00000</td>\n",
       "      <td>1.000000</td>\n",
       "    </tr>\n",
       "    <tr>\n",
       "      <th>50%</th>\n",
       "      <td>3812.500000</td>\n",
       "      <td>1188.500000</td>\n",
       "      <td>128.000000</td>\n",
       "      <td>360.00000</td>\n",
       "      <td>1.000000</td>\n",
       "    </tr>\n",
       "    <tr>\n",
       "      <th>75%</th>\n",
       "      <td>5795.000000</td>\n",
       "      <td>2297.250000</td>\n",
       "      <td>168.000000</td>\n",
       "      <td>360.00000</td>\n",
       "      <td>1.000000</td>\n",
       "    </tr>\n",
       "    <tr>\n",
       "      <th>max</th>\n",
       "      <td>81000.000000</td>\n",
       "      <td>41667.000000</td>\n",
       "      <td>700.000000</td>\n",
       "      <td>480.00000</td>\n",
       "      <td>1.000000</td>\n",
       "    </tr>\n",
       "  </tbody>\n",
       "</table>\n",
       "</div>"
      ],
      "text/plain": [
       "       ApplicantIncome  CoapplicantIncome  LoanAmount  Loan_Amount_Term  \\\n",
       "count       614.000000         614.000000  592.000000         600.00000   \n",
       "mean       5403.459283        1621.245798  146.412162         342.00000   \n",
       "std        6109.041673        2926.248369   85.587325          65.12041   \n",
       "min         150.000000           0.000000    9.000000          12.00000   \n",
       "25%        2877.500000           0.000000  100.000000         360.00000   \n",
       "50%        3812.500000        1188.500000  128.000000         360.00000   \n",
       "75%        5795.000000        2297.250000  168.000000         360.00000   \n",
       "max       81000.000000       41667.000000  700.000000         480.00000   \n",
       "\n",
       "       Credit_History  \n",
       "count      564.000000  \n",
       "mean         0.842199  \n",
       "std          0.364878  \n",
       "min          0.000000  \n",
       "25%          1.000000  \n",
       "50%          1.000000  \n",
       "75%          1.000000  \n",
       "max          1.000000  "
      ]
     },
     "execution_count": 23,
     "metadata": {},
     "output_type": "execute_result"
    }
   ],
   "source": [
    "df.describe()"
   ]
  },
  {
   "cell_type": "code",
   "execution_count": 50,
   "id": "de1ca163-0586-4622-95c4-95afe0e7cad2",
   "metadata": {},
   "outputs": [
    {
     "name": "stdout",
     "output_type": "stream",
     "text": [
      "Gender : Value Counts\n",
      "Gender\n",
      "Male      470\n",
      "Female    109\n",
      "Name: count, dtype: int64\n",
      "========================\n",
      "\n",
      "Married : Value Counts\n",
      "Married\n",
      "Yes    384\n",
      "No     206\n",
      "Name: count, dtype: int64\n",
      "========================\n",
      "\n",
      "Dependents : Value Counts\n",
      "Dependents\n",
      "0     334\n",
      "1      98\n",
      "2      98\n",
      "3+     49\n",
      "Name: count, dtype: int64\n",
      "========================\n",
      "\n",
      "Education : Value Counts\n",
      "Education\n",
      "Graduate        465\n",
      "Not Graduate    127\n",
      "Name: count, dtype: int64\n",
      "========================\n",
      "\n",
      "Self_Employed : Value Counts\n",
      "Self_Employed\n",
      "No     482\n",
      "Yes     79\n",
      "Name: count, dtype: int64\n",
      "========================\n",
      "\n",
      "ApplicantIncome : Value Counts\n",
      "ApplicantIncome\n",
      "2500    9\n",
      "4583    6\n",
      "6000    6\n",
      "2600    6\n",
      "3333    5\n",
      "       ..\n",
      "7787    1\n",
      "3430    1\n",
      "3975    1\n",
      "3244    1\n",
      "7583    1\n",
      "Name: count, Length: 487, dtype: int64\n",
      "========================\n",
      "\n",
      "CoapplicantIncome : Value Counts\n",
      "CoapplicantIncome\n",
      "0.0       261\n",
      "2083.0      5\n",
      "2500.0      5\n",
      "1666.0      5\n",
      "5625.0      3\n",
      "         ... \n",
      "2383.0      1\n",
      "2791.0      1\n",
      "1010.0      1\n",
      "1695.0      1\n",
      "240.0       1\n",
      "Name: count, Length: 278, dtype: int64\n",
      "========================\n",
      "\n",
      "LoanAmount : Value Counts\n",
      "LoanAmount\n",
      "120.0    20\n",
      "110.0    17\n",
      "100.0    15\n",
      "160.0    12\n",
      "187.0    12\n",
      "         ..\n",
      "240.0     1\n",
      "214.0     1\n",
      "59.0      1\n",
      "166.0     1\n",
      "253.0     1\n",
      "Name: count, Length: 203, dtype: int64\n",
      "========================\n",
      "\n",
      "Loan_Amount_Term : Value Counts\n",
      "Loan_Amount_Term\n",
      "360.0    493\n",
      "180.0     42\n",
      "480.0     15\n",
      "300.0     13\n",
      "84.0       4\n",
      "120.0      3\n",
      "240.0      3\n",
      "60.0       2\n",
      "36.0       2\n",
      "12.0       1\n",
      "Name: count, dtype: int64\n",
      "========================\n",
      "\n",
      "Credit_History : Value Counts\n",
      "Credit_History\n",
      "1.0    458\n",
      "0.0     85\n",
      "Name: count, dtype: int64\n",
      "========================\n",
      "\n",
      "Property_Area : Value Counts\n",
      "Property_Area\n",
      "Semiurban    228\n",
      "Urban        191\n",
      "Rural        173\n",
      "Name: count, dtype: int64\n",
      "========================\n",
      "\n",
      "Loan_Status : Value Counts\n",
      "Loan_Status\n",
      "Y    411\n",
      "N    181\n",
      "Name: count, dtype: int64\n",
      "========================\n",
      "\n"
     ]
    }
   ],
   "source": [
    "cols = df.columns[1:]\n",
    "for col in cols:\n",
    "    print(col, \": Value Counts\")\n",
    "    print(df[col].value_counts())\n",
    "    print(\"========================\\n\")"
   ]
  },
  {
   "cell_type": "markdown",
   "id": "72fcc097-8ae4-423f-985a-e0d5a937954f",
   "metadata": {},
   "source": [
    "## 데이터 전처리"
   ]
  },
  {
   "cell_type": "markdown",
   "id": "141d8ca3-7d0e-4a21-9762-937bc7d2af7b",
   "metadata": {},
   "source": [
    "### 결측치 처리"
   ]
  },
  {
   "cell_type": "code",
   "execution_count": 41,
   "id": "2146f9c1-0007-4c77-8ed3-8804098ebfdb",
   "metadata": {},
   "outputs": [
    {
     "data": {
      "text/plain": [
       "Loan_ID               0\n",
       "Gender               13\n",
       "Married               3\n",
       "Dependents           15\n",
       "Education             0\n",
       "Self_Employed        32\n",
       "ApplicantIncome       0\n",
       "CoapplicantIncome     0\n",
       "LoanAmount           22\n",
       "Loan_Amount_Term     14\n",
       "Credit_History       50\n",
       "Property_Area         0\n",
       "Loan_Status           0\n",
       "dtype: int64"
      ]
     },
     "execution_count": 41,
     "metadata": {},
     "output_type": "execute_result"
    }
   ],
   "source": [
    "df.isnull().sum()"
   ]
  },
  {
   "cell_type": "markdown",
   "id": "5b9a5fed-d5da-479e-aa05-c4d1d7294a4a",
   "metadata": {},
   "source": [
    "- Gender, Married, Dependents, Self_Employed, Loan_Amount_Term, Credit_History 는 최빈값 대체\n",
    "- LoanAmount는 대출 승인 여부에 중요한 변수라고 판단하여 결측치 제거"
   ]
  },
  {
   "cell_type": "code",
   "execution_count": 57,
   "id": "890ca8b6-ccdd-43a7-ab75-eb83e7256569",
   "metadata": {},
   "outputs": [],
   "source": [
    "# drop Loan Amount's Null Values\n",
    "df = df.dropna(subset=['LoanAmount'])\n",
    "\n",
    "# Replace missing values with the mode\n",
    "df['Gender'] = df['Gender'].fillna(df['Gender'].mode().iloc[0])\n",
    "df['Married'] = df['Married'].fillna(df['Married'].mode().iloc[0])\n",
    "df['Self_Employed'] = df['Self_Employed'].fillna(df['Self_Employed'].mode().iloc[0])\n",
    "df['Loan_Amount_Term'] = df['Loan_Amount_Term'].fillna(df['Loan_Amount_Term'].mode().iloc[0])\n",
    "df['Credit_History'] = df['Credit_History'].fillna(df['Credit_History'].mode().iloc[0])\n",
    "df['Dependents'] = df['Dependents'].replace(['0', '1', '2', '3+'], [0,1,2,3])\n",
    "df['Dependents'] = df['Dependents'].fillna(df['Dependents'].mode().iloc[0])"
   ]
  },
  {
   "cell_type": "code",
   "execution_count": 61,
   "id": "88b5c2f4-816d-41d7-851e-ab72f86d5235",
   "metadata": {},
   "outputs": [
    {
     "data": {
      "text/plain": [
       "0"
      ]
     },
     "execution_count": 61,
     "metadata": {},
     "output_type": "execute_result"
    }
   ],
   "source": [
    "df.isnull().sum().sum()"
   ]
  },
  {
   "cell_type": "markdown",
   "id": "af85e02e-eb89-460b-8e58-428c444e6643",
   "metadata": {},
   "source": [
    "### 데이터 형변환\n",
    "- float type 변수에 소수점 값 없음 -> int로 type 변환"
   ]
  },
  {
   "cell_type": "code",
   "execution_count": 69,
   "id": "4992822e-5021-4e2a-a9ba-cb7cba6d1bae",
   "metadata": {},
   "outputs": [],
   "source": [
    "df['CoapplicantIncome'] = df['CoapplicantIncome'].astype(int)\n",
    "df['LoanAmount'] = df['LoanAmount'].astype(int)\n",
    "df['Loan_Amount_Term'] = df['Loan_Amount_Term'].astype(int)\n",
    "df['Credit_History'] = df['Credit_History'].astype(int)\n",
    "df['Dependents'] = df['Dependents'].astype(int)"
   ]
  },
  {
   "cell_type": "code",
   "execution_count": 71,
   "id": "0a908fa5-9813-40a0-94c3-b44c2aa47347",
   "metadata": {},
   "outputs": [
    {
     "name": "stdout",
     "output_type": "stream",
     "text": [
      "<class 'pandas.core.frame.DataFrame'>\n",
      "Index: 592 entries, 1 to 613\n",
      "Data columns (total 13 columns):\n",
      " #   Column             Non-Null Count  Dtype \n",
      "---  ------             --------------  ----- \n",
      " 0   Loan_ID            592 non-null    object\n",
      " 1   Gender             592 non-null    object\n",
      " 2   Married            592 non-null    object\n",
      " 3   Dependents         592 non-null    int32 \n",
      " 4   Education          592 non-null    object\n",
      " 5   Self_Employed      592 non-null    object\n",
      " 6   ApplicantIncome    592 non-null    int64 \n",
      " 7   CoapplicantIncome  592 non-null    int32 \n",
      " 8   LoanAmount         592 non-null    int32 \n",
      " 9   Loan_Amount_Term   592 non-null    int32 \n",
      " 10  Credit_History     592 non-null    int32 \n",
      " 11  Property_Area      592 non-null    object\n",
      " 12  Loan_Status        592 non-null    object\n",
      "dtypes: int32(5), int64(1), object(7)\n",
      "memory usage: 53.2+ KB\n"
     ]
    }
   ],
   "source": [
    "df.info()"
   ]
  },
  {
   "cell_type": "markdown",
   "id": "02dbc6a9-1d34-4dff-b6ad-c7850a264252",
   "metadata": {},
   "source": []
  }
 ],
 "metadata": {
  "kernelspec": {
   "display_name": "Python 3 (ipykernel)",
   "language": "python",
   "name": "python3"
  },
  "language_info": {
   "codemirror_mode": {
    "name": "ipython",
    "version": 3
   },
   "file_extension": ".py",
   "mimetype": "text/x-python",
   "name": "python",
   "nbconvert_exporter": "python",
   "pygments_lexer": "ipython3",
   "version": "3.12.4"
  }
 },
 "nbformat": 4,
 "nbformat_minor": 5
}
